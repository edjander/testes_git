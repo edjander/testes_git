{
  "nbformat": 4,
  "nbformat_minor": 0,
  "metadata": {
    "colab": {
      "name": "listas.ipynb",
      "provenance": [],
      "authorship_tag": "ABX9TyM7ka2+zzpN131g/qolH+Wr",
      "include_colab_link": true
    },
    "kernelspec": {
      "name": "python3",
      "display_name": "Python 3"
    },
    "language_info": {
      "name": "python"
    }
  },
  "cells": [
    {
      "cell_type": "markdown",
      "metadata": {
        "id": "view-in-github",
        "colab_type": "text"
      },
      "source": [
        "<a href=\"https://colab.research.google.com/github/edjander/testes_git/blob/main/listas.ipynb\" target=\"_parent\"><img src=\"https://colab.research.google.com/assets/colab-badge.svg\" alt=\"Open In Colab\"/></a>"
      ]
    },
    {
      "cell_type": "code",
      "metadata": {
        "id": "bLEkkCamcPzE"
      },
      "source": [
        "lista_vazia = []"
      ],
      "execution_count": null,
      "outputs": []
    },
    {
      "cell_type": "code",
      "metadata": {
        "id": "ARytlVTecs6z"
      },
      "source": [
        "#também cria uma lista vazia\n",
        "lista_vazia2 = list()"
      ],
      "execution_count": null,
      "outputs": []
    },
    {
      "cell_type": "code",
      "metadata": {
        "colab": {
          "base_uri": "https://localhost:8080/"
        },
        "id": "VGbiS7fuc7d0",
        "outputId": "8e9af39e-a068-45e0-a1f1-04426eb8cf4c"
      },
      "source": [
        "type(lista_vazia)"
      ],
      "execution_count": null,
      "outputs": [
        {
          "output_type": "execute_result",
          "data": {
            "text/plain": [
              "list"
            ]
          },
          "metadata": {
            "tags": []
          },
          "execution_count": 3
        }
      ]
    },
    {
      "cell_type": "code",
      "metadata": {
        "id": "3mYD9XmJdE98"
      },
      "source": [
        "#criando lista incluindo elementos\n",
        "lista_nome1 =['Ramon','Ricardo','Rafael','Renata']"
      ],
      "execution_count": null,
      "outputs": []
    },
    {
      "cell_type": "code",
      "metadata": {
        "id": "NT6hTHCtdW3i"
      },
      "source": [
        "lista_nome2 = ['Ramon, Ricardo,Rafael, Renata']"
      ],
      "execution_count": null,
      "outputs": []
    },
    {
      "cell_type": "code",
      "metadata": {
        "colab": {
          "base_uri": "https://localhost:8080/"
        },
        "id": "okruMvBKd07e",
        "outputId": "fccf6603-e9c8-4f31-b9e7-30f0ce4f1441"
      },
      "source": [
        "#Função len retorna o tamanho da lista, ou seja, o total de elementos\n",
        "len(listas_nome1)"
      ],
      "execution_count": null,
      "outputs": [
        {
          "output_type": "execute_result",
          "data": {
            "text/plain": [
              "4"
            ]
          },
          "metadata": {
            "tags": []
          },
          "execution_count": 12
        }
      ]
    },
    {
      "cell_type": "code",
      "metadata": {
        "colab": {
          "base_uri": "https://localhost:8080/"
        },
        "id": "GLNu565yeERB",
        "outputId": "ee32664e-6995-4cb4-d5be-790633b9bbdc"
      },
      "source": [
        "len(lista_nome2)"
      ],
      "execution_count": null,
      "outputs": [
        {
          "output_type": "execute_result",
          "data": {
            "text/plain": [
              "1"
            ]
          },
          "metadata": {
            "tags": []
          },
          "execution_count": 13
        }
      ]
    },
    {
      "cell_type": "code",
      "metadata": {
        "id": "tTIgff9Peq01"
      },
      "source": [
        "lista_mista = ['elevador',77,3.14]"
      ],
      "execution_count": null,
      "outputs": []
    },
    {
      "cell_type": "code",
      "metadata": {
        "colab": {
          "base_uri": "https://localhost:8080/"
        },
        "id": "vr7xLwjQe0DT",
        "outputId": "5eef2af1-42e8-4e8a-b423-e8c1e567270a"
      },
      "source": [
        "print(lista_mista)"
      ],
      "execution_count": null,
      "outputs": [
        {
          "output_type": "stream",
          "text": [
            "['elevador', 77, 3.14]\n"
          ],
          "name": "stdout"
        }
      ]
    },
    {
      "cell_type": "code",
      "metadata": {
        "colab": {
          "base_uri": "https://localhost:8080/"
        },
        "id": "Y_TFUrxZe8q8",
        "outputId": "1687ef1f-895e-4e68-c76f-6611266b1bdc"
      },
      "source": [
        "print('Tamanho da lista = ', len(lista_mista))"
      ],
      "execution_count": null,
      "outputs": [
        {
          "output_type": "stream",
          "text": [
            "Tamanho da lista =  3\n"
          ],
          "name": "stdout"
        }
      ]
    },
    {
      "cell_type": "code",
      "metadata": {
        "colab": {
          "base_uri": "https://localhost:8080/",
          "height": 52
        },
        "id": "IYj0blyIfLMg",
        "outputId": "afa4c175-0dbc-4925-c91a-fb0859e9b948"
      },
      "source": [
        "print(lista_mista[0])\n",
        "lista_mista[0]"
      ],
      "execution_count": null,
      "outputs": [
        {
          "output_type": "stream",
          "text": [
            "elevador\n"
          ],
          "name": "stdout"
        },
        {
          "output_type": "execute_result",
          "data": {
            "application/vnd.google.colaboratory.intrinsic+json": {
              "type": "string"
            },
            "text/plain": [
              "'elevador'"
            ]
          },
          "metadata": {
            "tags": []
          },
          "execution_count": 17
        }
      ]
    },
    {
      "cell_type": "code",
      "metadata": {
        "colab": {
          "base_uri": "https://localhost:8080/"
        },
        "id": "7mPYimz4fXj1",
        "outputId": "ecba3e0e-2e12-4959-837a-fdd48b2d6974"
      },
      "source": [
        "print(lista_mista[1])\n",
        "lista_mista[1]"
      ],
      "execution_count": null,
      "outputs": [
        {
          "output_type": "stream",
          "text": [
            "77\n"
          ],
          "name": "stdout"
        },
        {
          "output_type": "execute_result",
          "data": {
            "text/plain": [
              "77"
            ]
          },
          "metadata": {
            "tags": []
          },
          "execution_count": 18
        }
      ]
    },
    {
      "cell_type": "code",
      "metadata": {
        "colab": {
          "base_uri": "https://localhost:8080/"
        },
        "id": "jJoHA1oCfeD-",
        "outputId": "b8bd0122-afdd-40ac-8c1b-8824b3471e12"
      },
      "source": [
        "lista_mista"
      ],
      "execution_count": null,
      "outputs": [
        {
          "output_type": "execute_result",
          "data": {
            "text/plain": [
              "['elevador', 77, 3.14]"
            ]
          },
          "metadata": {
            "tags": []
          },
          "execution_count": 19
        }
      ]
    },
    {
      "cell_type": "code",
      "metadata": {
        "id": "mTnRG2nSmT5Y"
      },
      "source": [
        "del lista_mista[1]"
      ],
      "execution_count": null,
      "outputs": []
    },
    {
      "cell_type": "code",
      "metadata": {
        "id": "ozAxX4W8mZci",
        "colab": {
          "base_uri": "https://localhost:8080/"
        },
        "outputId": "4c8dee4b-6050-4163-9337-171b460877b5"
      },
      "source": [
        "print(lista_mista)"
      ],
      "execution_count": null,
      "outputs": [
        {
          "output_type": "stream",
          "text": [
            "['elevador', 3.14]\n"
          ],
          "name": "stdout"
        }
      ]
    },
    {
      "cell_type": "code",
      "metadata": {
        "colab": {
          "base_uri": "https://localhost:8080/"
        },
        "id": "MH3UwKG8W1t4",
        "outputId": "4b243575-44ab-4c8e-a44a-be4ac1a15cee"
      },
      "source": [
        "lista_mista2 = ['casa', 77, 3.14, 'viagem', 10, 3, 77]\n",
        "lista_mista2\n"
      ],
      "execution_count": 2,
      "outputs": [
        {
          "output_type": "execute_result",
          "data": {
            "text/plain": [
              "['casa', 77, 3.14, 'viagem', 10, 3, 77]"
            ]
          },
          "metadata": {
            "tags": []
          },
          "execution_count": 2
        }
      ]
    },
    {
      "cell_type": "code",
      "metadata": {
        "id": "eGKdmggKXKm3"
      },
      "source": [
        "lista_mista2.remove(3.14)"
      ],
      "execution_count": 3,
      "outputs": []
    },
    {
      "cell_type": "code",
      "metadata": {
        "colab": {
          "base_uri": "https://localhost:8080/"
        },
        "id": "MYNtF_glXdaC",
        "outputId": "12baa2b8-377f-4fe9-b8d6-d53e60d999b7"
      },
      "source": [
        "lista_mista2"
      ],
      "execution_count": 4,
      "outputs": [
        {
          "output_type": "execute_result",
          "data": {
            "text/plain": [
              "['casa', 77, 'viagem', 10, 3, 77]"
            ]
          },
          "metadata": {
            "tags": []
          },
          "execution_count": 4
        }
      ]
    },
    {
      "cell_type": "code",
      "metadata": {
        "id": "HVkrk05jXlDc"
      },
      "source": [
        "lista_mista2.remove(77)"
      ],
      "execution_count": 5,
      "outputs": []
    },
    {
      "cell_type": "code",
      "metadata": {
        "colab": {
          "base_uri": "https://localhost:8080/"
        },
        "id": "sAqTf19hXsrR",
        "outputId": "b464feb4-0186-4a68-c3c3-a87670941ed3"
      },
      "source": [
        "lista_mista2"
      ],
      "execution_count": 6,
      "outputs": [
        {
          "output_type": "execute_result",
          "data": {
            "text/plain": [
              "['casa', 'viagem', 10, 3, 77]"
            ]
          },
          "metadata": {
            "tags": []
          },
          "execution_count": 6
        }
      ]
    },
    {
      "cell_type": "code",
      "metadata": {
        "id": "C3DiAQbPX1Z7"
      },
      "source": [
        ""
      ],
      "execution_count": null,
      "outputs": []
    },
    {
      "cell_type": "code",
      "metadata": {
        "id": "oHTAX82NXyWu"
      },
      "source": [
        "lista_mista2.remove(77)"
      ],
      "execution_count": 7,
      "outputs": []
    },
    {
      "cell_type": "code",
      "metadata": {
        "colab": {
          "base_uri": "https://localhost:8080/"
        },
        "id": "vOCVDsJ6X3Hb",
        "outputId": "13fa1845-e6f7-46a4-f6fd-187e675e1610"
      },
      "source": [
        "lista_mista2"
      ],
      "execution_count": 8,
      "outputs": [
        {
          "output_type": "execute_result",
          "data": {
            "text/plain": [
              "['casa', 'viagem', 10, 3]"
            ]
          },
          "metadata": {
            "tags": []
          },
          "execution_count": 8
        }
      ]
    },
    {
      "cell_type": "code",
      "metadata": {
        "id": "CMM17-sXYCFn"
      },
      "source": [
        "lista = [[11,22,33],[1,2,3,4],[100,200,300,400,500]]"
      ],
      "execution_count": 9,
      "outputs": []
    },
    {
      "cell_type": "code",
      "metadata": {
        "colab": {
          "base_uri": "https://localhost:8080/"
        },
        "id": "1TfUO2veYP1E",
        "outputId": "2f903b8e-b552-49ba-869f-79d52b5a00d5"
      },
      "source": [
        "lista"
      ],
      "execution_count": 10,
      "outputs": [
        {
          "output_type": "execute_result",
          "data": {
            "text/plain": [
              "[[11, 22, 33], [1, 2, 3, 4], [100, 200, 300, 400, 500]]"
            ]
          },
          "metadata": {
            "tags": []
          },
          "execution_count": 10
        }
      ]
    },
    {
      "cell_type": "code",
      "metadata": {
        "colab": {
          "base_uri": "https://localhost:8080/"
        },
        "id": "UGywOAIaYTl_",
        "outputId": "a330899b-07cd-4e75-f0f2-573a569168b1"
      },
      "source": [
        "len(lista)"
      ],
      "execution_count": 11,
      "outputs": [
        {
          "output_type": "execute_result",
          "data": {
            "text/plain": [
              "3"
            ]
          },
          "metadata": {
            "tags": []
          },
          "execution_count": 11
        }
      ]
    },
    {
      "cell_type": "markdown",
      "metadata": {
        "id": "GmtqWumRYcQL"
      },
      "source": [
        ""
      ]
    },
    {
      "cell_type": "code",
      "metadata": {
        "colab": {
          "base_uri": "https://localhost:8080/"
        },
        "id": "VYA5bDlnYdb3",
        "outputId": "730b1ebf-3d1f-4924-8f8d-7276646365e8"
      },
      "source": [
        "print(lista[0:2])"
      ],
      "execution_count": 13,
      "outputs": [
        {
          "output_type": "stream",
          "text": [
            "[[11, 22, 33], [1, 2, 3, 4]]\n"
          ],
          "name": "stdout"
        }
      ]
    },
    {
      "cell_type": "code",
      "metadata": {
        "colab": {
          "base_uri": "https://localhost:8080/"
        },
        "id": "0dOy8tINYuAZ",
        "outputId": "aef29dec-5469-45c7-eeee-e5c3c06d6107"
      },
      "source": [
        "print(lista[0][2])"
      ],
      "execution_count": 14,
      "outputs": [
        {
          "output_type": "stream",
          "text": [
            "33\n"
          ],
          "name": "stdout"
        }
      ]
    },
    {
      "cell_type": "code",
      "metadata": {
        "id": "JS6nj1mhZE7F"
      },
      "source": [
        "lista1 = [1,2,3,4,5]"
      ],
      "execution_count": 15,
      "outputs": []
    },
    {
      "cell_type": "code",
      "metadata": {
        "id": "hYLi4vC6ZJwo"
      },
      "source": [
        "lista2 = [22,33,44,55,66,77]"
      ],
      "execution_count": 16,
      "outputs": []
    },
    {
      "cell_type": "code",
      "metadata": {
        "id": "EbMUmgQ4ZQso"
      },
      "source": [
        "sum_lista = lista1 + lista2"
      ],
      "execution_count": 17,
      "outputs": []
    },
    {
      "cell_type": "code",
      "metadata": {
        "colab": {
          "base_uri": "https://localhost:8080/"
        },
        "id": "Mv0ktzYtZXPz",
        "outputId": "9aa308b2-bc23-429a-8e7a-6749d20ef9c8"
      },
      "source": [
        "sum_lista"
      ],
      "execution_count": 18,
      "outputs": [
        {
          "output_type": "execute_result",
          "data": {
            "text/plain": [
              "[1, 2, 3, 4, 5, 22, 33, 44, 55, 66, 77]"
            ]
          },
          "metadata": {
            "tags": []
          },
          "execution_count": 18
        }
      ]
    },
    {
      "cell_type": "code",
      "metadata": {
        "id": "DPHQy0aRZgTs"
      },
      "source": [
        "minha_lista = ['tio', 'mãe', 'pai', 'irmão','sobrinha']"
      ],
      "execution_count": 19,
      "outputs": []
    },
    {
      "cell_type": "code",
      "metadata": {
        "colab": {
          "base_uri": "https://localhost:8080/"
        },
        "id": "ei1tvMbrZs1u",
        "outputId": "fe036994-6bd8-4e87-c099-c496c5385759"
      },
      "source": [
        "minha_lista[0::2]"
      ],
      "execution_count": 30,
      "outputs": [
        {
          "output_type": "execute_result",
          "data": {
            "text/plain": [
              "['tio', 'pai', 'sobrinha']"
            ]
          },
          "metadata": {
            "tags": []
          },
          "execution_count": 30
        }
      ]
    },
    {
      "cell_type": "code",
      "metadata": {
        "colab": {
          "base_uri": "https://localhost:8080/"
        },
        "id": "GfQwAfexbbv9",
        "outputId": "8bf5bd99-a606-4d95-825c-2df1bec89f13"
      },
      "source": [
        "sum_lista"
      ],
      "execution_count": 31,
      "outputs": [
        {
          "output_type": "execute_result",
          "data": {
            "text/plain": [
              "[1, 2, 3, 4, 5, 22, 33, 44, 55, 66, 77]"
            ]
          },
          "metadata": {
            "tags": []
          },
          "execution_count": 31
        }
      ]
    },
    {
      "cell_type": "code",
      "metadata": {
        "colab": {
          "base_uri": "https://localhost:8080/"
        },
        "id": "R2ljOpGbbgW_",
        "outputId": "3c377176-dd16-4bc2-c54e-ed40663c0761"
      },
      "source": [
        "20 in sum_lista"
      ],
      "execution_count": 32,
      "outputs": [
        {
          "output_type": "execute_result",
          "data": {
            "text/plain": [
              "False"
            ]
          },
          "metadata": {
            "tags": []
          },
          "execution_count": 32
        }
      ]
    },
    {
      "cell_type": "code",
      "metadata": {
        "colab": {
          "base_uri": "https://localhost:8080/"
        },
        "id": "uMhDVc96boS5",
        "outputId": "90909314-5303-4f08-8fb9-d0e566ed5129"
      },
      "source": [
        "77 in sum_lista"
      ],
      "execution_count": 33,
      "outputs": [
        {
          "output_type": "execute_result",
          "data": {
            "text/plain": [
              "True"
            ]
          },
          "metadata": {
            "tags": []
          },
          "execution_count": 33
        }
      ]
    },
    {
      "cell_type": "code",
      "metadata": {
        "colab": {
          "base_uri": "https://localhost:8080/"
        },
        "id": "jVcTQjjYb1mh",
        "outputId": "3b9450b0-7faf-4801-da81-509242f0f1c9"
      },
      "source": [
        "sum_lista"
      ],
      "execution_count": 34,
      "outputs": [
        {
          "output_type": "execute_result",
          "data": {
            "text/plain": [
              "[1, 2, 3, 4, 5, 22, 33, 44, 55, 66, 77]"
            ]
          },
          "metadata": {
            "tags": []
          },
          "execution_count": 34
        }
      ]
    },
    {
      "cell_type": "code",
      "metadata": {
        "id": "PcFtj1Ekb5jL"
      },
      "source": [
        "sum_lista.append(121)"
      ],
      "execution_count": 35,
      "outputs": []
    },
    {
      "cell_type": "code",
      "metadata": {
        "colab": {
          "base_uri": "https://localhost:8080/"
        },
        "id": "OHTxGbUIb-rv",
        "outputId": "22fcc2d7-cbff-455a-a6e3-c47bb2c60e53"
      },
      "source": [
        "sum_lista"
      ],
      "execution_count": 36,
      "outputs": [
        {
          "output_type": "execute_result",
          "data": {
            "text/plain": [
              "[1, 2, 3, 4, 5, 22, 33, 44, 55, 66, 77, 121]"
            ]
          },
          "metadata": {
            "tags": []
          },
          "execution_count": 36
        }
      ]
    },
    {
      "cell_type": "code",
      "metadata": {
        "colab": {
          "base_uri": "https://localhost:8080/"
        },
        "id": "7tNVUK5bcJY7",
        "outputId": "65abc345-4e43-48aa-cfd8-e0b160762c88"
      },
      "source": [
        "sum_lista.index(121)"
      ],
      "execution_count": 37,
      "outputs": [
        {
          "output_type": "execute_result",
          "data": {
            "text/plain": [
              "11"
            ]
          },
          "metadata": {
            "tags": []
          },
          "execution_count": 37
        }
      ]
    },
    {
      "cell_type": "code",
      "metadata": {
        "id": "sr2PlRKkcXhC"
      },
      "source": [
        "sum_lista.sort()"
      ],
      "execution_count": 40,
      "outputs": []
    },
    {
      "cell_type": "code",
      "metadata": {
        "colab": {
          "base_uri": "https://localhost:8080/"
        },
        "id": "JsZ40sc1cwwA",
        "outputId": "71444b6b-cabe-48ba-de2c-fd960a485db3"
      },
      "source": [
        "sum_lista"
      ],
      "execution_count": 41,
      "outputs": [
        {
          "output_type": "execute_result",
          "data": {
            "text/plain": [
              "[1, 2, 3, 4, 5, 22, 33, 44, 55, 66, 77, 121]"
            ]
          },
          "metadata": {
            "tags": []
          },
          "execution_count": 41
        }
      ]
    },
    {
      "cell_type": "code",
      "metadata": {
        "id": "vM5-mrRec3Nm"
      },
      "source": [
        "sum_lista.reverse()"
      ],
      "execution_count": 42,
      "outputs": []
    },
    {
      "cell_type": "code",
      "metadata": {
        "colab": {
          "base_uri": "https://localhost:8080/"
        },
        "id": "LFVggOdSc6FH",
        "outputId": "bdea3929-7ce5-4ad9-a8c8-613ec6c4daa0"
      },
      "source": [
        "sum_lista"
      ],
      "execution_count": 43,
      "outputs": [
        {
          "output_type": "execute_result",
          "data": {
            "text/plain": [
              "[121, 77, 66, 55, 44, 33, 22, 5, 4, 3, 2, 1]"
            ]
          },
          "metadata": {
            "tags": []
          },
          "execution_count": 43
        }
      ]
    }
  ]
}